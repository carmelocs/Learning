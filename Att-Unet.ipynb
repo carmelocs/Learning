{
 "metadata": {
  "language_info": {
   "codemirror_mode": {
    "name": "ipython",
    "version": 3
   },
   "file_extension": ".py",
   "mimetype": "text/x-python",
   "name": "python",
   "nbconvert_exporter": "python",
   "pygments_lexer": "ipython3",
   "version": "3.7.4-final"
  },
  "orig_nbformat": 2,
  "kernelspec": {
   "name": "python3",
   "display_name": "Python 3",
   "language": "python"
  }
 },
 "nbformat": 4,
 "nbformat_minor": 2,
 "cells": [
  {
   "cell_type": "code",
   "execution_count": 1,
   "metadata": {},
   "outputs": [],
   "source": [
    "# Understand U-Net first\n",
    "\n",
    "import torch\n",
    "import torch.nn as nn\n",
    "\n",
    "torch.manual_seed(0)\n",
    "\n",
    "# make up some data\n",
    "x = torch.rand(1, 3, 128, 192)"
   ]
  },
  {
   "cell_type": "code",
   "execution_count": 3,
   "metadata": {},
   "outputs": [
    {
     "output_type": "execute_result",
     "data": {
      "text/plain": [
       "torch.Size([1, 16, 128, 192])"
      ]
     },
     "metadata": {},
     "execution_count": 3
    }
   ],
   "source": [
    "model_dim = 16\n",
    "input_conv = nn.Conv2d(3, model_dim, kernel_size=1)\n",
    "\n",
    "input_conv(x).shape"
   ]
  },
  {
   "cell_type": "code",
   "execution_count": 4,
   "metadata": {},
   "outputs": [],
   "source": [
    "class UBlockD(nn.Module):\n",
    "    def __init__(self, model_dim, kernel_size=3):\n",
    "        super(UBlockD, self).__init__()\n",
    "        conv1 = nn.Conv2d(model_dim, model_dim, kernel_size, padding=1)\n",
    "        conv2 = nn.Conv2d(model_dim, model_dim*2, kernel_size, padding=1)\n",
    "        self.block = nn.Sequential(conv1, nn.ReLU(), conv2, nn.ReLU())\n",
    "\n",
    "    def forward(self, x):\n",
    "        return self.block(x)"
   ]
  },
  {
   "cell_type": "code",
   "execution_count": 5,
   "metadata": {},
   "outputs": [],
   "source": [
    "class UBlockU(nn.Module):\n",
    "    def __init__(self, model_dim, kernel_size=3):\n",
    "        super(UBlockU, self).__init__()\n",
    "        conv1 = nn.Conv2d(model_dim*2, model_dim, kernel_size, padding=1)\n",
    "        conv2 = nn.Conv2d(model_dim, model_dim//2, kernel_size, padding=1)\n",
    "        self.upsample_conv = nn.ConvTranspose2d(model_dim*2, model_dim, kernel_size=2, stride=2)\n",
    "        self.block = nn.Sequential(conv1, nn.ReLU(), conv2, nn.ReLU())\n",
    "\n",
    "    def forward(self, x_same, x_up):\n",
    "        '''\n",
    "        x_same: skipped link from the same level of contraction\n",
    "        x_up: up-sampled\n",
    "        '''\n",
    "        x = torch.cat([x_same, self.upsample_conv(x_up)], dim=1)\n",
    "        return self.block(x)"
   ]
  },
  {
   "cell_type": "code",
   "execution_count": 7,
   "metadata": {},
   "outputs": [],
   "source": [
    "current_model_dim = model_dim\n",
    "b1 = UBlockD(current_model_dim)\n",
    "current_model_dim *= 2 \n",
    "pool = nn.MaxPool2d(2)\n",
    "b2 = UBlockD(current_model_dim)\n",
    "current_model_dim *= 2\n",
    "# reach bottom of \"U\"\n",
    "current_model_dim //= 2\n",
    "u1 = UBlockU(current_model_dim)"
   ]
  },
  {
   "cell_type": "code",
   "execution_count": 9,
   "metadata": {},
   "outputs": [
    {
     "output_type": "stream",
     "name": "stdout",
     "text": [
      "Gating signal x_up to next up-sampling layer torch.Size([1, 64, 64, 96])\nReference of attention x_sample torch.Size([1, 32, 128, 192])\ntorch.Size([1, 16, 128, 192])\n"
     ]
    }
   ],
   "source": [
    "h1 = b1(input_conv(x))\n",
    "h2 = pool(h1)\n",
    "h2 = b2(h2)\n",
    "print(\"Gating signal x_up to next up-sampling layer\", h2.shape)\n",
    "\n",
    "gs = h2\n",
    "# gating signal\n",
    "\n",
    "print(\"Reference of attention x_sample\", h1.shape)\n",
    "# attention is computed on h1 and gs\n",
    "\n",
    "g1 = u1(h1, h2)\n",
    "print(g1.shape)"
   ]
  },
  {
   "cell_type": "code",
   "execution_count": null,
   "metadata": {},
   "outputs": [],
   "source": []
  }
 ]
}