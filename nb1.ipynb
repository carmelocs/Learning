{
  "cells": [
    {
      "source": [
        "# Reading Note \"Graph Attention for PC Segment\"\n",
        "\n"
      ],
      "cell_type": "markdown",
      "metadata": {
        "nteract": {
          "transient": {
            "deleting": false
          }
        }
      }
    },
    {
      "cell_type": "code",
      "source": [
        "import torch\n",
        "import torch.nn as nn"
      ],
      "outputs": [],
      "execution_count": 1,
      "metadata": {
        "collapsed": true,
        "jupyter": {
          "source_hidden": false,
          "outputs_hidden": false
        },
        "nteract": {
          "transient": {
            "deleting": false
          }
        }
      }
    },
    {
      "cell_type": "code",
      "source": [
        "# input: [10, 3+6]\n",
        "torch.manual_seed(1)\n",
        "N = 10\n",
        "dim_feat = 6\n",
        "pc_wf = torch.rand(N, 3+dim_feat) # point cloud with feat.\n",
        "# input with 3d info\n",
        "pc_xyz = pc_wf[:,:3]\n",
        "pc_feat = pc_wf[:,3:]\n",
        "print(pc_wf, pc_wf.shape)\n",
        "print(pc_xyz, pc_xyz.shape)\n",
        "print(pc_feat, pc_feat.shape)"
      ],
      "outputs": [
        {
          "output_type": "stream",
          "name": "stdout",
          "text": [
            "tensor([[0.7576, 0.2793, 0.4031, 0.7347, 0.0293, 0.7999, 0.3971, 0.7544, 0.5695],\n        [0.4388, 0.6387, 0.5247, 0.6826, 0.3051, 0.4635, 0.4550, 0.5725, 0.4980],\n        [0.9371, 0.6556, 0.3138, 0.1980, 0.4162, 0.2843, 0.3398, 0.5239, 0.7981],\n        [0.7718, 0.0112, 0.8100, 0.6397, 0.9743, 0.8300, 0.0444, 0.0246, 0.2588],\n        [0.9391, 0.4167, 0.7140, 0.2676, 0.9906, 0.2885, 0.8750, 0.5059, 0.2366],\n        [0.7570, 0.2346, 0.6471, 0.3556, 0.4452, 0.0193, 0.2616, 0.7713, 0.3785],\n        [0.9980, 0.9008, 0.4766, 0.1663, 0.8045, 0.6552, 0.1768, 0.8248, 0.8036],\n        [0.9434, 0.2197, 0.4177, 0.4903, 0.5730, 0.1205, 0.1452, 0.7720, 0.3828],\n        [0.7442, 0.5285, 0.6642, 0.6099, 0.6818, 0.7479, 0.0369, 0.7517, 0.1484],\n        [0.1227, 0.5304, 0.4148, 0.7937, 0.2104, 0.0555, 0.8639, 0.4259, 0.7812]]) torch.Size([10, 9])\ntensor([[0.7576, 0.2793, 0.4031],\n        [0.4388, 0.6387, 0.5247],\n        [0.9371, 0.6556, 0.3138],\n        [0.7718, 0.0112, 0.8100],\n        [0.9391, 0.4167, 0.7140],\n        [0.7570, 0.2346, 0.6471],\n        [0.9980, 0.9008, 0.4766],\n        [0.9434, 0.2197, 0.4177],\n        [0.7442, 0.5285, 0.6642],\n        [0.1227, 0.5304, 0.4148]]) torch.Size([10, 3])\ntensor([[0.7347, 0.0293, 0.7999, 0.3971, 0.7544, 0.5695],\n        [0.6826, 0.3051, 0.4635, 0.4550, 0.5725, 0.4980],\n        [0.1980, 0.4162, 0.2843, 0.3398, 0.5239, 0.7981],\n        [0.6397, 0.9743, 0.8300, 0.0444, 0.0246, 0.2588],\n        [0.2676, 0.9906, 0.2885, 0.8750, 0.5059, 0.2366],\n        [0.3556, 0.4452, 0.0193, 0.2616, 0.7713, 0.3785],\n        [0.1663, 0.8045, 0.6552, 0.1768, 0.8248, 0.8036],\n        [0.4903, 0.5730, 0.1205, 0.1452, 0.7720, 0.3828],\n        [0.6099, 0.6818, 0.7479, 0.0369, 0.7517, 0.1484],\n        [0.7937, 0.2104, 0.0555, 0.8639, 0.4259, 0.7812]]) torch.Size([10, 6])\n"
          ]
        }
      ],
      "execution_count": 2,
      "metadata": {
        "collapsed": true,
        "jupyter": {
          "source_hidden": false,
          "outputs_hidden": false
        },
        "nteract": {
          "transient": {
            "deleting": false
          }
        },
        "execution": {
          "iopub.status.busy": "2021-01-15T02:56:36.752Z",
          "iopub.execute_input": "2021-01-15T02:56:36.756Z",
          "iopub.status.idle": "2021-01-15T02:56:36.762Z",
          "shell.execute_reply": "2021-01-15T02:56:36.766Z"
        }
      }
    },
    {
      "source": [
        "src = torch.ones(10,3)\n",
        "# print(src)\n",
        "# dst = torch.zeros(10,3)\n",
        "dst = 2*torch.ones(10,3)\n",
        "# print(dst.permute(-1,-2))\n",
        "dist = -2*torch.matmul(src, dst.permute(-1,-2))\n",
        "print(dist)\n",
        "dist += torch.sum(src**2, dim=-1)\n",
        "dist += torch.sum(dst**2, dim=-1).view(10,-1)\n",
        "print(dist)\n",
        "# print(torch.sum(src**2, dim=-1))\n",
        "# torch.sum(dst**2, dim=-1).view(10,-1)"
      ],
      "cell_type": "markdown",
      "metadata": {}
    },
    {
      "cell_type": "code",
      "execution_count": 3,
      "metadata": {},
      "outputs": [],
      "source": [
        "def sqrt_dist(src, dst):\n",
        "    '''\n",
        "    Calculate Squared Euclidean distance between each two points\n",
        "    \n",
        "    Input: \n",
        "        src: source points [M, 3]\n",
        "        dst: target points [N, 3]\n",
        "    Output:\n",
        "        sqrt_dist: per-point Squared Euclidean distance [M, N]\n",
        "    '''\n",
        "    M, _ = src.shape\n",
        "    N, _ = dst.shape\n",
        "    # print(N, M)\n",
        "    # Squared Euclidean distance between every two vertices\n",
        "    sqrt_dist = -2*torch.matmul(src, dst.permute(-1,-2))\n",
        "    # print(sqrt_dist.shape)\n",
        "    sqrt_dist += torch.sum(src**2, dim=-1).view(M, -1)\n",
        "    # print(torch.sum(src**2, dim=-1).view(M, -1).shape)\n",
        "    sqrt_dist += torch.sum(dst**2, dim=-1).view(-1, N)\n",
        "    # print(torch.sum(dst**2, dim=-1).view(-1,N).shape)\n",
        "    return sqrt_dist\n",
        "\n",
        "# sqrt_dist = sqrt_dist(pc_3d, pc_3d)\n",
        "# print(sqrt_dist)\n",
        "# vertices_id = torch.arange(10).view(1,-1).repeat(10, 1)\n",
        "# vertices_id[sqrt_dist>0.5**2] = 10\n",
        "# vertices_id = sqrt_dist.sort(dim=-1)[:5]\n"
      ]
    },
    {
      "cell_type": "code",
      "source": [
        "def creat_graph(pc_xyz, radius=128):\n",
        "  '''\n",
        "  Create a graph of each point and their five nearest points within the radius\n",
        "\n",
        "  Input:\n",
        "    pc_xyz: point cloud with 3d info [N, 3]\n",
        "    radius: neighbourhood radius\n",
        "  Output:\n",
        "    graph: a matrix of each point index and their five neariset neighbours' within the radius\n",
        "  '''\n",
        "  # vertices_id = torch.arange(10).view(1,-1).repeat(10,1)\n",
        "  # print(vertices_id)\n",
        "  # Squared Euclidean distance\n",
        "  dist = sqrt_dist(pc_xyz, pc_xyz)\n",
        "  # print(dist, dist.shape)\n",
        "  # create a graph of every vertix and its five nearest neighbours (vertice id)\n",
        "  graph = dist.sort(dim=-1)[1][:,:5]\n",
        "  # print(g, g.shape)\n",
        "  # store the distance of five nearest neighbours\n",
        "  dist_value = dist.sort()[0][:,:5]\n",
        "  # print(dist_value, dist_value.shape)\n",
        "  \n",
        "  # create a mask for neighbours out of radius\n",
        "  mask = dist_value > radius**2\n",
        "  # print(mask, mask.shape)\n",
        "  # store the index of the nearest neighbour, which is the vertix itself\n",
        "  vertix_nearest = dist.sort()[1][:,0].view(-1,1).repeat(1, 5)\n",
        "  # print(vertix_nearest, vertix_nearest.shape)\n",
        "  # update graph by replacing the neighbours outside radius with the nearest vertix\n",
        "  graph[mask] = vertix_nearest[mask]\n",
        "  # print(g, g.shape)\n",
        "  return graph\n",
        "\n",
        "graph = creat_graph(pc_xyz)\n",
        "graph\n"
      ],
      "outputs": [
        {
          "output_type": "execute_result",
          "data": {
            "text/plain": [
              "tensor([[0, 7, 5, 8, 4],\n",
              "        [1, 9, 8, 0, 5],\n",
              "        [2, 6, 8, 0, 7],\n",
              "        [3, 5, 4, 7, 0],\n",
              "        [4, 8, 5, 7, 0],\n",
              "        [5, 0, 4, 3, 8],\n",
              "        [6, 2, 8, 4, 1],\n",
              "        [7, 0, 5, 4, 8],\n",
              "        [8, 4, 5, 1, 0],\n",
              "        [9, 1, 8, 0, 5]])"
            ]
          },
          "metadata": {},
          "execution_count": 4
        }
      ],
      "execution_count": 4,
      "metadata": {
        "collapsed": true,
        "jupyter": {
          "source_hidden": false,
          "outputs_hidden": false
        },
        "nteract": {
          "transient": {
            "deleting": false
          }
        },
        "execution": {
          "iopub.status.busy": "2021-01-15T02:57:19.516Z",
          "iopub.execute_input": "2021-01-15T02:57:19.520Z",
          "iopub.status.idle": "2021-01-15T02:57:19.526Z",
          "shell.execute_reply": "2021-01-15T02:57:19.529Z"
        }
      }
    },
    {
      "cell_type": "code",
      "execution_count": 5,
      "metadata": {},
      "outputs": [
        {
          "output_type": "stream",
          "name": "stdout",
          "text": [
            "torch.Size([10, 5, 3])\ntorch.Size([10, 5, 6])\n"
          ]
        }
      ],
      "source": [
        "group_xyz = pc_xyz[graph, :]\n",
        "print(group_xyz.shape)\n",
        "group_feat = pc_feat[graph, :]\n",
        "print(group_feat.shape)\n"
      ]
    },
    {
      "cell_type": "code",
      "source": [
        "def gac_forward(group_xyz, group_feat, K):\n",
        "  '''\n",
        "  Implement Graph Attention Convolution to get new features with xyz info\n",
        "  Input:\n",
        "    group_xyz: points neighbourhood with xyz info\n",
        "    group_feat: points neighbourhood without xyz info (just features, can be original or learned)\n",
        "    K: dimention of transformed features\n",
        "  Output:\n",
        "    new_feat: new features after GAC computation (H' in the paper)\n",
        "  '''\n",
        "  N, S, C = group_xyz.shape\n",
        "  _, _, F = group_feat.shape\n",
        "  query_xyz = group_xyz[:,0,:].view(N, 1, -1).repeat(1, S, 1)\n",
        "  # print(query_xyz.shape)\n",
        "  query_feat = group_feat[:,0,:].view(N, 1, -1).repeat(1, S, 1)\n",
        "  # print(query_feat.shape)\n",
        "  delta_p = group_xyz -query_xyz\n",
        "  # print(delta_p.shape)\n",
        "  M_g = nn.Linear(F, K)\n",
        "  delta_h = M_g(query_feat) - M_g(query_feat)\n",
        "  # print(delta_h.shape)\n",
        "  delta_p_cat_h = torch.cat([delta_p, delta_h], dim=-1)\n",
        "  # print(delta_p_cat_h.shape)\n",
        "  M_a = nn.Linear(C+K, K)\n",
        "  att_score = M_a(delta_p_cat_h)\n",
        "  # print(att_score[0], att_score.shape)\n",
        "  att_score = att_score.softmax(dim=1)\n",
        "  # print(att_score[0], att_score.shape)\n",
        "  new_feat = torch.sum(torch.mul(att_score, M_g(group_feat)), dim=1)\n",
        "  # print(new_feat.shape)\n",
        "\n",
        "  return new_feat\n",
        "\n",
        "new_feat = gac_forward(group_xyz, group_feat, 10)\n"
      ],
      "outputs": [],
      "execution_count": 6,
      "metadata": {
        "collapsed": true,
        "jupyter": {
          "source_hidden": false,
          "outputs_hidden": false
        },
        "nteract": {
          "transient": {
            "deleting": false
          }
        }
      }
    },
    {
      "cell_type": "code",
      "execution_count": null,
      "metadata": {},
      "outputs": [],
      "source": []
    }
  ],
  "metadata": {
    "kernel_info": {
      "name": "python37664bitmlconda7de2a322903342fa97e8708b6637b16b"
    },
    "language_info": {
      "name": "python",
      "version": "3.7.4-final",
      "mimetype": "text/x-python",
      "codemirror_mode": {
        "name": "ipython",
        "version": 3
      },
      "pygments_lexer": "ipython3",
      "nbconvert_exporter": "python",
      "file_extension": ".py"
    },
    "kernelspec": {
      "name": "python3",
      "display_name": "Python 3.7.4 64-bit ('base': conda)",
      "metadata": {
        "interpreter": {
          "hash": "c360f7f21a72e5083ad62d0bcf8bfd45b1ab32f2b7b7db5d7b0dd8bb45545b1c"
        }
      }
    },
    "nteract": {
      "version": "0.27.0"
    }
  },
  "nbformat": 4,
  "nbformat_minor": 0
}