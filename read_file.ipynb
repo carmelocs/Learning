{
 "cells": [
  {
   "cell_type": "code",
   "execution_count": 3,
   "metadata": {},
   "outputs": [],
   "source": [
    "import numpy as np\n",
    "import matplotlib.pyplot as plt\n",
    "from mpl_toolkits.mplot3d import Axes3D\n",
    "import sys\n",
    "\n",
    "def readXYZfile(filename, Separator):\n",
    "    data = [[],[],[],[],[],[]]\n",
    "    f = open(filename, 'r')\n",
    "    line = f.readline()\n",
    "    num_data = 0\n",
    "    while line:\n",
    "        x,y,z,r,g,b = line.split(Separator)\n",
    "        data[0].append(x)\n",
    "        data[1].append(y)\n",
    "        data[2].append(z)\n",
    "        data[3].append(r)\n",
    "        data[4].append(g)\n",
    "        data[5].append(b)\n",
    "        num_data += 1\n",
    "        line = f.readline()\n",
    "    f.close()\n",
    "\n",
    "    x = [ float(x) for x in data[0]]\n",
    "    y = [ float(y) for y in data[1]]\n",
    "    z = [ float(z) for z in data[2]]\n",
    "    r = [ int(r) for r in data[3]]\n",
    "    g = [ int(g) for g in data[4]]\n",
    "    b = [ int(b) for b in data[5]]\n",
    "    print(f'The number of read points: \\n{num_data}')\n",
    "    #print(min(r), max(r))\n",
    "    point = [x,y,z,r,g,b]\n",
    "    return point"
   ]
  },
  {
   "cell_type": "markdown",
   "metadata": {
    "tags": []
   },
   "source": [
    "filename = '/home/shuai_cheng/Documents/Repositories/Learning/Stanford3dDataset_v1.2_Aligned_Version/Area_1/conferenceRoom_1/conferenceRoom_1.txt'\n",
    "item = filename.split('/')[-1].split('_')[0]\n",
    "print(f'Item or instance is: {item}')\n",
    "data = readXYZfile(filename, ' ')"
   ]
  },
  {
   "cell_type": "code",
   "execution_count": 5,
   "metadata": {},
   "outputs": [],
   "source": [
    "def displayPoint(data, title):\n",
    "    if len(data[0]) > 20000:\n",
    "        sys.exit('Too many points!')\n",
    "\n",
    "    fig = plt.figure()\n",
    "    ax = Axes3D(fig)\n",
    "    ax.set_title(title)\n",
    "    ax.scatter3D(data[0], data[1], data[2], c='r', marker='.')\n",
    "    ax.set_xlabel('x')\n",
    "    ax.set_ylabel('y')\n",
    "    ax.set_zlabel('z')\n",
    "    plt.show()"
   ]
  },
  {
   "cell_type": "code",
   "execution_count": 7,
   "metadata": {},
   "outputs": [
    {
     "output_type": "error",
     "ename": "SystemExit",
     "evalue": "Too many points!",
     "traceback": [
      "An exception has occurred, use %tb to see the full traceback.\n",
      "\u001b[0;31mSystemExit\u001b[0m\u001b[0;31m:\u001b[0m Too many points!\n"
     ]
    }
   ],
   "source": [
    "displayPoint(data, item)"
   ]
  },
  {
   "cell_type": "code",
   "execution_count": 29,
   "metadata": {},
   "outputs": [
    {
     "output_type": "stream",
     "name": "stdout",
     "text": "['data', 'label']\n(1000, 4096, 9)\n(1000, 4096)\n(1000, 4096, 9)\n"
    }
   ],
   "source": [
    "import os\n",
    "import sys\n",
    "import h5py\n",
    "import numpy as np\n",
    "\n",
    "BASE_DIR = os.path.dirname(os.path.abspath(__file__))\n",
    "sys.path.append(BASE_DIR)\n",
    "DATA_DIR = os.path.join(BASE_DIR, 'indoor3d_sem_seg_hdf5_data')\n",
    "f = h5py.File('/home/shuai_cheng/Documents/Repositories/Learning/indoor3d_sem_seg_hdf5_data/ply_data_all_0.h5', 'r')\n",
    "print([key for key in f.keys()])\n",
    "print(f['data'].shape)\n",
    "#print(f['data'][0])\n",
    "#print(type(f['data']))\n",
    "print(f['label'].shape)\n",
    "#print(f['label'][0][:10])\n",
    "#print(type(f['label']))\n",
    "\n",
    "npdata = np.array(f['data'])\n",
    "print(npdata.shape)\n",
    "#print(type(npdata))"
   ]
  },
  {
   "cell_type": "code",
   "execution_count": 1,
   "metadata": {
    "tags": []
   },
   "outputs": [
    {
     "output_type": "stream",
     "name": "stdout",
     "text": "/data (1648, 2048, 3)\n/faceId (1648, 2048)\n/label (1648, 1)\n/normal (1648, 2048, 3)\n[0] [39]\n"
    }
   ],
   "source": [
    "import h5py\n",
    "\n",
    "f = h5py.File('/home/shuai_cheng/Documents/Repositories/data/modelnet40_ply_hdf5_2048/ply_data_train4.h5', 'r')\n",
    "for key in f.keys():\n",
    "    print(f[key].name, f[key].shape)\n",
    "print(min(f['label']), max(f['label']))"
   ]
  },
  {
   "cell_type": "code",
   "execution_count": 7,
   "metadata": {
    "tags": []
   },
   "outputs": [
    {
     "output_type": "stream",
     "name": "stdout",
     "text": "/data (420, 2048, 3)\n/faceId (420, 2048)\n/label (420, 1)\n/normal (420, 2048, 3)\n[0] [39]\n"
    }
   ],
   "source": [
    "import h5py\n",
    "\n",
    "f = h5py.File('/home/shuai_cheng/Documents/Repositories/data/modelnet40_ply_hdf5_2048/ply_data_test1.h5', 'r')\n",
    "for key in f.keys():\n",
    "    print(f[key].name, f[key].shape)\n",
    "print(min(f['label']), max(f['label']))"
   ]
  },
  {
   "cell_type": "code",
   "execution_count": 6,
   "metadata": {
    "tags": []
   },
   "outputs": [
    {
     "output_type": "stream",
     "name": "stdout",
     "text": "Current round: 1 \n Vector:\n [[0.685  0.2375 0.0775]]\n Matrix:\n [[0.8275  0.13375 0.03875]\n [0.2675  0.66375 0.06875]\n [0.3875  0.34375 0.26875]]\nCurrent round: 2 \n Vector:\n [[0.6604 0.2759 0.0637]]\n Matrix:\n [[0.73555  0.212775 0.051675]\n [0.42555  0.499975 0.074475]\n [0.51675  0.372375 0.110875]]\nCurrent round: 3 \n Vector:\n [[0.63608344 0.30218    0.06173656]]\n Matrix:\n [[0.65828326 0.28213131 0.05958543]\n [0.56426262 0.36825403 0.06748335]\n [0.5958543  0.33741675 0.06672895]]\nCurrent round: 4 \n Vector:\n [[0.62601795 0.31156901 0.06241304]]\n Matrix:\n [[0.62803724 0.30972343 0.06223933]\n [0.61944687 0.3175772  0.06297594]\n [0.6223933  0.3148797  0.062727  ]]\nCurrent round: 5 \n Vector:\n [[0.62500849 0.31249224 0.06249927]]\n Matrix:\n [[0.62502532 0.31247685 0.06249783]\n [0.6249537  0.31254233 0.06250397]\n [0.62497828 0.31251986 0.06250186]]\nCurrent round: 6 \n Vector:\n [[0.625  0.3125 0.0625]]\n Matrix:\n [[0.625  0.3125 0.0625]\n [0.625  0.3125 0.0625]\n [0.625  0.3125 0.0625]]\nCurrent round: 7 \n Vector:\n [[0.625  0.3125 0.0625]]\n Matrix:\n [[0.625  0.3125 0.0625]\n [0.625  0.3125 0.0625]\n [0.625  0.3125 0.0625]]\nCurrent round: 8 \n Vector:\n [[0.625  0.3125 0.0625]]\n Matrix:\n [[0.625  0.3125 0.0625]\n [0.625  0.3125 0.0625]\n [0.625  0.3125 0.0625]]\nCurrent round: 9 \n Vector:\n [[0.625  0.3125 0.0625]]\n Matrix:\n [[0.625  0.3125 0.0625]\n [0.625  0.3125 0.0625]\n [0.625  0.3125 0.0625]]\nCurrent round: 10 \n Vector:\n [[0.625  0.3125 0.0625]]\n Matrix:\n [[0.625  0.3125 0.0625]\n [0.625  0.3125 0.0625]\n [0.625  0.3125 0.0625]]\nCurrent round: 11 \n Vector:\n [[0.625  0.3125 0.0625]]\n Matrix:\n [[0.625  0.3125 0.0625]\n [0.625  0.3125 0.0625]\n [0.625  0.3125 0.0625]]\nCurrent round: 12 \n Vector:\n [[0.625  0.3125 0.0625]]\n Matrix:\n [[0.625  0.3125 0.0625]\n [0.625  0.3125 0.0625]\n [0.625  0.3125 0.0625]]\nCurrent round: 13 \n Vector:\n [[0.625  0.3125 0.0625]]\n Matrix:\n [[0.625  0.3125 0.0625]\n [0.625  0.3125 0.0625]\n [0.625  0.3125 0.0625]]\nCurrent round: 14 \n Vector:\n [[0.625  0.3125 0.0625]]\n Matrix:\n [[0.625  0.3125 0.0625]\n [0.625  0.3125 0.0625]\n [0.625  0.3125 0.0625]]\nCurrent round: 15 \n Vector:\n [[0.625  0.3125 0.0625]]\n Matrix:\n [[0.625  0.3125 0.0625]\n [0.625  0.3125 0.0625]\n [0.625  0.3125 0.0625]]\nCurrent round: 16 \n Vector:\n [[0.625  0.3125 0.0625]]\n Matrix:\n [[0.625  0.3125 0.0625]\n [0.625  0.3125 0.0625]\n [0.625  0.3125 0.0625]]\nCurrent round: 17 \n Vector:\n [[0.625  0.3125 0.0625]]\n Matrix:\n [[0.625  0.3125 0.0625]\n [0.625  0.3125 0.0625]\n [0.625  0.3125 0.0625]]\nCurrent round: 18 \n Vector:\n [[0.625  0.3125 0.0625]]\n Matrix:\n [[0.625  0.3125 0.0625]\n [0.625  0.3125 0.0625]\n [0.625  0.3125 0.0625]]\nCurrent round: 19 \n Vector:\n [[0.625  0.3125 0.0625]]\n Matrix:\n [[0.625  0.3125 0.0625]\n [0.625  0.3125 0.0625]\n [0.625  0.3125 0.0625]]\nCurrent round: 20 \n Vector:\n [[0.625  0.3125 0.0625]]\n Matrix:\n [[0.625  0.3125 0.0625]\n [0.625  0.3125 0.0625]\n [0.625  0.3125 0.0625]]\nCurrent round: 21 \n Vector:\n [[0.625  0.3125 0.0625]]\n Matrix:\n [[0.625  0.3125 0.0625]\n [0.625  0.3125 0.0625]\n [0.625  0.3125 0.0625]]\nCurrent round: 22 \n Vector:\n [[0.625  0.3125 0.0625]]\n Matrix:\n [[0.625  0.3125 0.0625]\n [0.625  0.3125 0.0625]\n [0.625  0.3125 0.0625]]\nCurrent round: 23 \n Vector:\n [[0.625  0.3125 0.0625]]\n Matrix:\n [[0.625  0.3125 0.0625]\n [0.625  0.3125 0.0625]\n [0.625  0.3125 0.0625]]\nCurrent round: 24 \n Vector:\n [[0.625  0.3125 0.0625]]\n Matrix:\n [[0.625  0.3125 0.0625]\n [0.625  0.3125 0.0625]\n [0.625  0.3125 0.0625]]\nCurrent round: 25 \n Vector:\n [[0.625  0.3125 0.0625]]\n Matrix:\n [[0.625  0.3125 0.0625]\n [0.625  0.3125 0.0625]\n [0.625  0.3125 0.0625]]\nCurrent round: 26 \n Vector:\n [[0.625  0.3125 0.0625]]\n Matrix:\n [[0.625  0.3125 0.0625]\n [0.625  0.3125 0.0625]\n [0.625  0.3125 0.0625]]\nCurrent round: 27 \n Vector:\n [[0.625  0.3125 0.0625]]\n Matrix:\n [[0.625  0.3125 0.0625]\n [0.625  0.3125 0.0625]\n [0.625  0.3125 0.0625]]\nCurrent round: 28 \n Vector:\n [[0.625  0.3125 0.0625]]\n Matrix:\n [[0.625  0.3125 0.0625]\n [0.625  0.3125 0.0625]\n [0.625  0.3125 0.0625]]\nCurrent round: 29 \n Vector:\n [[0.62500001 0.3125     0.0625    ]]\n Matrix:\n [[0.62500001 0.3125     0.0625    ]\n [0.62500001 0.3125     0.0625    ]\n [0.62500001 0.3125     0.0625    ]]\nCurrent round: 30 \n Vector:\n [[0.62500001 0.31250001 0.0625    ]]\n Matrix:\n [[0.62500001 0.31250001 0.0625    ]\n [0.62500001 0.31250001 0.0625    ]\n [0.62500001 0.31250001 0.0625    ]]\nCurrent round: 31 \n Vector:\n [[0.62500003 0.31250001 0.0625    ]]\n Matrix:\n [[0.62500003 0.31250001 0.0625    ]\n [0.62500003 0.31250001 0.0625    ]\n [0.62500003 0.31250001 0.0625    ]]\nCurrent round: 32 \n Vector:\n [[0.62500006 0.31250003 0.06250001]]\n Matrix:\n [[0.62500006 0.31250003 0.06250001]\n [0.62500006 0.31250003 0.06250001]\n [0.62500006 0.31250003 0.06250001]]\nCurrent round: 33 \n Vector:\n [[0.62500011 0.31250006 0.06250001]]\n Matrix:\n [[0.62500011 0.31250006 0.06250001]\n [0.62500011 0.31250006 0.06250001]\n [0.62500011 0.31250006 0.06250001]]\nCurrent round: 34 \n Vector:\n [[0.62500022 0.31250011 0.06250002]]\n Matrix:\n [[0.62500022 0.31250011 0.06250002]\n [0.62500022 0.31250011 0.06250002]\n [0.62500022 0.31250011 0.06250002]]\nCurrent round: 35 \n Vector:\n [[0.62500044 0.31250022 0.06250004]]\n Matrix:\n [[0.62500044 0.31250022 0.06250004]\n [0.62500044 0.31250022 0.06250004]\n [0.62500044 0.31250022 0.06250004]]\nCurrent round: 36 \n Vector:\n [[0.62500089 0.31250044 0.06250009]]\n Matrix:\n [[0.62500089 0.31250044 0.06250009]\n [0.62500089 0.31250044 0.06250009]\n [0.62500089 0.31250044 0.06250009]]\nCurrent round: 37 \n Vector:\n [[0.62500178 0.31250089 0.06250018]]\n Matrix:\n [[0.62500178 0.31250089 0.06250018]\n [0.62500178 0.31250089 0.06250018]\n [0.62500178 0.31250089 0.06250018]]\nCurrent round: 38 \n Vector:\n [[0.62500356 0.31250178 0.06250036]]\n Matrix:\n [[0.62500356 0.31250178 0.06250036]\n [0.62500356 0.31250178 0.06250036]\n [0.62500356 0.31250178 0.06250036]]\nCurrent round: 39 \n Vector:\n [[0.62500712 0.31250356 0.06250071]]\n Matrix:\n [[0.62500712 0.31250356 0.06250071]\n [0.62500712 0.31250356 0.06250071]\n [0.62500712 0.31250356 0.06250071]]\nCurrent round: 40 \n Vector:\n [[0.62501423 0.31250712 0.06250142]]\n Matrix:\n [[0.62501423 0.31250712 0.06250142]\n [0.62501423 0.31250712 0.06250142]\n [0.62501423 0.31250712 0.06250142]]\nCurrent round: 41 \n Vector:\n [[0.62502847 0.31251423 0.06250285]]\n Matrix:\n [[0.62502847 0.31251423 0.06250285]\n [0.62502847 0.31251423 0.06250285]\n [0.62502847 0.31251423 0.06250285]]\nCurrent round: 42 \n Vector:\n [[0.62505694 0.31252847 0.06250569]]\n Matrix:\n [[0.62505694 0.31252847 0.06250569]\n [0.62505694 0.31252847 0.06250569]\n [0.62505694 0.31252847 0.06250569]]\nCurrent round: 43 \n Vector:\n [[0.62511389 0.31255694 0.06251139]]\n Matrix:\n [[0.62511389 0.31255694 0.06251139]\n [0.62511389 0.31255694 0.06251139]\n [0.62511389 0.31255694 0.06251139]]\nCurrent round: 44 \n Vector:\n [[0.62522779 0.3126139  0.06252278]]\n Matrix:\n [[0.62522779 0.3126139  0.06252278]\n [0.62522779 0.3126139  0.06252278]\n [0.62522779 0.3126139  0.06252278]]\nCurrent round: 45 \n Vector:\n [[0.62545567 0.31272783 0.06254557]]\n Matrix:\n [[0.62545567 0.31272783 0.06254557]\n [0.62545567 0.31272783 0.06254557]\n [0.62545567 0.31272783 0.06254557]]\nCurrent round: 46 \n Vector:\n [[0.62591167 0.31295583 0.06259117]]\n Matrix:\n [[0.62591167 0.31295583 0.06259117]\n [0.62591167 0.31295583 0.06259117]\n [0.62591167 0.31295583 0.06259117]]\nCurrent round: 47 \n Vector:\n [[0.62682467 0.31341233 0.06268247]]\n Matrix:\n [[0.62682467 0.31341233 0.06268247]\n [0.62682467 0.31341233 0.06268247]\n [0.62682467 0.31341233 0.06268247]]\nCurrent round: 48 \n Vector:\n [[0.62865466 0.31432733 0.06286547]]\n Matrix:\n [[0.62865466 0.31432733 0.06286547]\n [0.62865466 0.31432733 0.06286547]\n [0.62865466 0.31432733 0.06286547]]\nCurrent round: 49 \n Vector:\n [[0.63233069 0.31616534 0.06323307]]\n Matrix:\n [[0.63233069 0.31616534 0.06323307]\n [0.63233069 0.31616534 0.06323307]\n [0.63233069 0.31616534 0.06323307]]\nCurrent round: 50 \n Vector:\n [[0.63974735 0.31987368 0.06397474]]\n Matrix:\n [[0.63974735 0.31987368 0.06397474]\n [0.63974735 0.31987368 0.06397474]\n [0.63974735 0.31987368 0.06397474]]\nCurrent round: 51 \n Vector:\n [[0.65484268 0.32742134 0.06548427]]\n Matrix:\n [[0.65484268 0.32742134 0.06548427]\n [0.65484268 0.32742134 0.06548427]\n [0.65484268 0.32742134 0.06548427]]\nCurrent round: 52 \n Vector:\n [[0.6861103  0.34305515 0.06861103]]\n Matrix:\n [[0.6861103  0.34305515 0.06861103]\n [0.6861103  0.34305515 0.06861103]\n [0.6861103  0.34305515 0.06861103]]\nCurrent round: 53 \n Vector:\n [[0.75319575 0.37659788 0.07531958]]\n Matrix:\n [[0.75319575 0.37659788 0.07531958]\n [0.75319575 0.37659788 0.07531958]\n [0.75319575 0.37659788 0.07531958]]\nCurrent round: 54 \n Vector:\n [[0.90768614 0.45384307 0.09076861]]\n Matrix:\n [[0.90768614 0.45384307 0.09076861]\n [0.90768614 0.45384307 0.09076861]\n [0.90768614 0.45384307 0.09076861]]\nCurrent round: 55 \n Vector:\n [[1.31823062 0.65911531 0.13182306]]\n Matrix:\n [[1.31823062 0.65911531 0.13182306]\n [1.31823062 0.65911531 0.13182306]\n [1.31823062 0.65911531 0.13182306]]\nCurrent round: 56 \n Vector:\n [[2.78037115 1.39018557 0.27803711]]\n Matrix:\n [[2.78037115 1.39018557 0.27803711]\n [2.78037115 1.39018557 0.27803711]\n [2.78037115 1.39018557 0.27803711]]\nCurrent round: 57 \n Vector:\n [[12.36874193  6.18437097  1.23687419]]\n Matrix:\n [[12.36874193  6.18437097  1.23687419]\n [12.36874193  6.18437097  1.23687419]\n [12.36874193  6.18437097  1.23687419]]\nCurrent round: 58 \n Vector:\n [[244.77724317 122.38862158  24.47772432]]\n Matrix:\n [[244.77724317 122.38862158  24.47772432]\n [244.77724317 122.38862158  24.47772432]\n [244.77724317 122.38862158  24.47772432]]\nCurrent round: 59 \n Vector:\n [[95865.4380376  47932.7190188   9586.54380376]]\n Matrix:\n [[95865.4380376  47932.7190188   9586.54380376]\n [95865.4380376  47932.7190188   9586.54380376]\n [95865.4380376  47932.7190188   9586.54380376]]\nCurrent round: 60 \n Vector:\n [[1.47042915e+10 7.35214577e+09 1.47042915e+09]]\n Matrix:\n [[1.47042915e+10 7.35214577e+09 1.47042915e+09]\n [1.47042915e+10 7.35214577e+09 1.47042915e+09]\n [1.47042915e+10 7.35214577e+09 1.47042915e+09]]\nCurrent round: 61 \n Vector:\n [[3.45945903e+20 1.72972952e+20 3.45945903e+19]]\n Matrix:\n [[3.45945903e+20 1.72972952e+20 3.45945903e+19]\n [3.45945903e+20 1.72972952e+20 3.45945903e+19]\n [3.45945903e+20 1.72972952e+20 3.45945903e+19]]\nCurrent round: 62 \n Vector:\n [[1.91485709e+41 9.57428544e+40 1.91485709e+40]]\n Matrix:\n [[1.91485709e+41 9.57428544e+40 1.91485709e+40]\n [1.91485709e+41 9.57428544e+40 1.91485709e+40]\n [1.91485709e+41 9.57428544e+40 1.91485709e+40]]\nCurrent round: 63 \n Vector:\n [[5.86668427e+82 2.93334214e+82 5.86668427e+81]]\n Matrix:\n [[5.86668427e+82 2.93334214e+82 5.86668427e+81]\n [5.86668427e+82 2.93334214e+82 5.86668427e+81]\n [5.86668427e+82 2.93334214e+82 5.86668427e+81]]\nCurrent round: 64 \n Vector:\n [[5.50687749e+165 2.75343875e+165 5.50687749e+164]]\n Matrix:\n [[5.50687749e+165 2.75343875e+165 5.50687749e+164]\n [5.50687749e+165 2.75343875e+165 5.50687749e+164]\n [5.50687749e+165 2.75343875e+165 5.50687749e+164]]\nCurrent round: 65 \n Vector:\n [[inf inf inf]]\n Matrix:\n [[inf inf inf]\n [inf inf inf]\n [inf inf inf]]\nCurrent round: 66 \n Vector:\n [[inf inf inf]]\n Matrix:\n [[inf inf inf]\n [inf inf inf]\n [inf inf inf]]\nCurrent round: 67 \n Vector:\n [[inf inf inf]]\n Matrix:\n [[inf inf inf]\n [inf inf inf]\n [inf inf inf]]\nCurrent round: 68 \n Vector:\n [[inf inf inf]]\n Matrix:\n [[inf inf inf]\n [inf inf inf]\n [inf inf inf]]\nCurrent round: 69 \n Vector:\n [[inf inf inf]]\n Matrix:\n [[inf inf inf]\n [inf inf inf]\n [inf inf inf]]\nCurrent round: 70 \n Vector:\n [[inf inf inf]]\n Matrix:\n [[inf inf inf]\n [inf inf inf]\n [inf inf inf]]\nCurrent round: 71 \n Vector:\n [[inf inf inf]]\n Matrix:\n [[inf inf inf]\n [inf inf inf]\n [inf inf inf]]\nCurrent round: 72 \n Vector:\n [[inf inf inf]]\n Matrix:\n [[inf inf inf]\n [inf inf inf]\n [inf inf inf]]\nCurrent round: 73 \n Vector:\n [[inf inf inf]]\n Matrix:\n [[inf inf inf]\n [inf inf inf]\n [inf inf inf]]\nCurrent round: 74 \n Vector:\n [[inf inf inf]]\n Matrix:\n [[inf inf inf]\n [inf inf inf]\n [inf inf inf]]\nCurrent round: 75 \n Vector:\n [[inf inf inf]]\n Matrix:\n [[inf inf inf]\n [inf inf inf]\n [inf inf inf]]\nCurrent round: 76 \n Vector:\n [[inf inf inf]]\n Matrix:\n [[inf inf inf]\n [inf inf inf]\n [inf inf inf]]\nCurrent round: 77 \n Vector:\n [[inf inf inf]]\n Matrix:\n [[inf inf inf]\n [inf inf inf]\n [inf inf inf]]\nCurrent round: 78 \n Vector:\n [[inf inf inf]]\n Matrix:\n [[inf inf inf]\n [inf inf inf]\n [inf inf inf]]\nCurrent round: 79 \n Vector:\n [[inf inf inf]]\n Matrix:\n [[inf inf inf]\n [inf inf inf]\n [inf inf inf]]\nCurrent round: 80 \n Vector:\n [[inf inf inf]]\n Matrix:\n [[inf inf inf]\n [inf inf inf]\n [inf inf inf]]\nCurrent round: 81 \n Vector:\n [[inf inf inf]]\n Matrix:\n [[inf inf inf]\n [inf inf inf]\n [inf inf inf]]\nCurrent round: 82 \n Vector:\n [[inf inf inf]]\n Matrix:\n [[inf inf inf]\n [inf inf inf]\n [inf inf inf]]\nCurrent round: 83 \n Vector:\n [[inf inf inf]]\n Matrix:\n [[inf inf inf]\n [inf inf inf]\n [inf inf inf]]\nCurrent round: 84 \n Vector:\n [[inf inf inf]]\n Matrix:\n [[inf inf inf]\n [inf inf inf]\n [inf inf inf]]\nCurrent round: 85 \n Vector:\n [[inf inf inf]]\n Matrix:\n [[inf inf inf]\n [inf inf inf]\n [inf inf inf]]\nCurrent round: 86 \n Vector:\n [[inf inf inf]]\n Matrix:\n [[inf inf inf]\n [inf inf inf]\n [inf inf inf]]\nCurrent round: 87 \n Vector:\n [[inf inf inf]]\n Matrix:\n [[inf inf inf]\n [inf inf inf]\n [inf inf inf]]\nCurrent round: 88 \n Vector:\n [[inf inf inf]]\n Matrix:\n [[inf inf inf]\n [inf inf inf]\n [inf inf inf]]\nCurrent round: 89 \n Vector:\n [[inf inf inf]]\n Matrix:\n [[inf inf inf]\n [inf inf inf]\n [inf inf inf]]\nCurrent round: 90 \n Vector:\n [[inf inf inf]]\n Matrix:\n [[inf inf inf]\n [inf inf inf]\n [inf inf inf]]\nCurrent round: 91 \n Vector:\n [[inf inf inf]]\n Matrix:\n [[inf inf inf]\n [inf inf inf]\n [inf inf inf]]\nCurrent round: 92 \n Vector:\n [[inf inf inf]]\n Matrix:\n [[inf inf inf]\n [inf inf inf]\n [inf inf inf]]\nCurrent round: 93 \n Vector:\n [[inf inf inf]]\n Matrix:\n [[inf inf inf]\n [inf inf inf]\n [inf inf inf]]\nCurrent round: 94 \n Vector:\n [[inf inf inf]]\n Matrix:\n [[inf inf inf]\n [inf inf inf]\n [inf inf inf]]\nCurrent round: 95 \n Vector:\n [[inf inf inf]]\n Matrix:\n [[inf inf inf]\n [inf inf inf]\n [inf inf inf]]\nCurrent round: 96 \n Vector:\n [[inf inf inf]]\n Matrix:\n [[inf inf inf]\n [inf inf inf]\n [inf inf inf]]\nCurrent round: 97 \n Vector:\n [[inf inf inf]]\n Matrix:\n [[inf inf inf]\n [inf inf inf]\n [inf inf inf]]\nCurrent round: 98 \n Vector:\n [[inf inf inf]]\n Matrix:\n [[inf inf inf]\n [inf inf inf]\n [inf inf inf]]\nCurrent round: 99 \n Vector:\n [[inf inf inf]]\n Matrix:\n [[inf inf inf]\n [inf inf inf]\n [inf inf inf]]\nCurrent round: 100 \n Vector:\n [[inf inf inf]]\n Matrix:\n [[inf inf inf]\n [inf inf inf]\n [inf inf inf]]\n"
    }
   ],
   "source": [
    "# Markov Chain\n",
    "import numpy as np\n",
    "\n",
    "matrix = np.matrix([\n",
    "[0.9,0.075,0.025],\n",
    "[0.15,0.8,0.05],\n",
    "[0.25,0.25,0.5]], dtype=float)\n",
    "\n",
    "vector1 = np.matrix([\n",
    "[0.7, 0.2, 0.1]], dtype=float)\n",
    "\n",
    "for i in range(100):\n",
    "    vector1 = vector1*matrix\n",
    "    matrix = matrix*matrix\n",
    "    print(f'Current round: {i+1} \\n Vector:\\n {vector1}\\n Matrix:\\n {matrix}')"
   ]
  },
  {
   "cell_type": "code",
   "execution_count": 1,
   "metadata": {},
   "outputs": [],
   "source": [
    "from dataset import *\n",
    "    \n",
    "train_dataset = ModelNetDataset(root=BASE_DIR)\n",
    "seg_dataset = S3DISDataset(root=BASE_DIR)\n"
   ]
  },
  {
   "cell_type": "code",
   "execution_count": 2,
   "metadata": {},
   "outputs": [],
   "source": [
    "train_dataloader = DataLoader(train_dataset, batch_size=64)\n",
    "for i, (point_cloud, label) in enumerate(train_dataloader):\n",
    "    break"
   ]
  },
  {
   "cell_type": "code",
   "execution_count": 3,
   "metadata": {
    "tags": []
   },
   "outputs": [
    {
     "output_type": "stream",
     "name": "stdout",
     "text": "torch.Size([64, 2048, 3]) torch.Size([64, 1])\n"
    }
   ],
   "source": [
    "print(point_cloud.shape, label.shape)"
   ]
  },
  {
   "cell_type": "code",
   "execution_count": 7,
   "metadata": {
    "tags": []
   },
   "outputs": [
    {
     "output_type": "stream",
     "name": "stdout",
     "text": "torch.Size([64, 40])\n"
    }
   ],
   "source": [
    "import torch.nn as nn\n",
    "import torch.nn.functional as F\n",
    "\n",
    "class PointNet(nn.Module):\n",
    "    \n",
    "    def __init__(self, num_class=train_dataset.num_classes, num_point=train_dataset.num_points):\n",
    "        super(PointNet, self).__init__()\n",
    "        # Conv1d works as a Linear layer\n",
    "        self.conv1 = nn.Conv1d(3, 64, 1)\n",
    "        self.conv2 = nn.Conv1d(64, 64, 1)\n",
    "        self.conv3 = nn.Conv1d(64, 128, 1)\n",
    "        self.conv4 = nn.Conv1d(128, 1024, 1)\n",
    "        self.pool = nn.MaxPool1d(num_point)\n",
    "        self.bn1 = nn.BatchNorm1d(64)\n",
    "        self.bn2 = nn.BatchNorm1d(64)\n",
    "        self.bn3 = nn.BatchNorm1d(128)\n",
    "        self.bn4 = nn.BatchNorm1d(1024)\n",
    "        self.fc1 = nn.Linear(1024, 512)\n",
    "        self.fc2 = nn.Linear(512, 256)\n",
    "        self.fc3 = nn.Linear(256, num_class)\n",
    "        self.bn5 = nn.BatchNorm1d(512)\n",
    "        self.bn6 = nn.BatchNorm1d(256)\n",
    "        self.dropout = nn.Dropout(p=0.3)  # keep ratio = 0.7\n",
    "\n",
    "\n",
    "    def forward(self, x):\n",
    "        x = F.relu(self.bn1(self.conv1(x)))\n",
    "        x = F.relu(self.bn2(self.conv2(x)))\n",
    "        x = F.relu(self.bn3(self.conv3(x)))\n",
    "        x = F.relu(self.bn4(self.conv4(x)))\n",
    "        x = self.pool(x)\n",
    "        x = F.relu(self.bn5(self.fc1(x.transpose(2,1)).squeeze()))\n",
    "        x = F.relu(self.bn6(self.dropout(self.fc2(x))))\n",
    "        x = self.fc3(x)\n",
    "        return x\n",
    "\n",
    "net = PointNet()\n",
    "output = net(point_cloud.transpose(2, 1))\n",
    "print(output.shape)"
   ]
  },
  {
   "cell_type": "code",
   "execution_count": 37,
   "metadata": {
    "tags": []
   },
   "outputs": [
    {
     "output_type": "stream",
     "name": "stdout",
     "text": "torch.Size([20, 33, 16])\n"
    }
   ],
   "source": [
    "import torch\n",
    "m = nn.Conv1d(in_channels=16, out_channels=33, kernel_size=3, stride=3)\n",
    "input = torch.randn(20, 16, 50)  # (batch, channel, length of sequence)\n",
    "output = m(input)\n",
    "print(output.shape)"
   ]
  },
  {
   "cell_type": "code",
   "execution_count": 4,
   "metadata": {},
   "outputs": [],
   "source": [
    "from model import *\n",
    "\n"
   ]
  },
  {
   "cell_type": "code",
   "execution_count": null,
   "metadata": {},
   "outputs": [],
   "source": []
  }
 ],
 "metadata": {
  "language_info": {
   "codemirror_mode": {
    "name": "ipython",
    "version": 3
   },
   "file_extension": ".py",
   "mimetype": "text/x-python",
   "name": "python",
   "nbconvert_exporter": "python",
   "pygments_lexer": "ipython3",
   "version": "3.7.4-final"
  },
  "orig_nbformat": 2,
  "kernelspec": {
   "name": "python3",
   "display_name": "Python 3"
  }
 },
 "nbformat": 4,
 "nbformat_minor": 2
}