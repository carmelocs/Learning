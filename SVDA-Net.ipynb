{
 "metadata": {
  "language_info": {
   "codemirror_mode": {
    "name": "ipython",
    "version": 3
   },
   "file_extension": ".py",
   "mimetype": "text/x-python",
   "name": "python",
   "nbconvert_exporter": "python",
   "pygments_lexer": "ipython3",
   "version": "3.7.4-final"
  },
  "orig_nbformat": 2,
  "kernelspec": {
   "name": "python3",
   "display_name": "Python 3",
   "language": "python"
  }
 },
 "nbformat": 4,
 "nbformat_minor": 2,
 "cells": [
  {
   "source": [
    "# Reading note \"Sparse Voxel-Graph Attention Network (SVGA-Net)\"\n"
   ],
   "cell_type": "markdown",
   "metadata": {}
  },
  {
   "cell_type": "code",
   "execution_count": 1,
   "metadata": {},
   "outputs": [],
   "source": [
    "import torch\n",
    "import torch.nn as nn\n",
    "import torch.nn.functional as F"
   ]
  },
  {
   "cell_type": "code",
   "execution_count": 2,
   "metadata": {},
   "outputs": [
    {
     "output_type": "execute_result",
     "data": {
      "text/plain": [
       "torch.Size([100, 4])"
      ]
     },
     "metadata": {},
     "execution_count": 2
    }
   ],
   "source": [
    "# Fake n points according to the paper [n, 4]\n",
    "torch.manual_seed(0)\n",
    "# B = 64\n",
    "n = 100\n",
    "dim_v = 3\n",
    "dim_s = 1\n",
    "dim_D = dim_v+dim_s\n",
    "PCs = torch.rand(n, dim_D)\n",
    "PCs.shape"
   ]
  },
  {
   "cell_type": "code",
   "execution_count": 3,
   "metadata": {},
   "outputs": [],
   "source": [
    "\n",
    "def farthest_point_sample(xyz, N):\n",
    "    \"\"\"\n",
    "    Input:\n",
    "        xyz: point cloud data, [n, 3]\n",
    "        N: number of samples\n",
    "    Return:\n",
    "        P_idx: sampled point cloud index, [N]\n",
    "    \"\"\"\n",
    "    \n",
    "    # 采样点矩阵（N）\n",
    "    P_idx = torch.zeros(N) \n",
    "    # print(P.shape)\n",
    "\n",
    "    # 采样点到所有点距离（n）\n",
    "    distance = torch.ones(n) * 1e10\n",
    "    # print(distance.shape)\n",
    "\n",
    "    # 最远点，初试时随机选择一点点\n",
    "    farthest = torch.randint(0,n,(1,))\n",
    "    # print(farthest.shape)\n",
    " \n",
    "    for i in range(N):\n",
    "\n",
    "        # 更新第i个最远点\n",
    "        P_idx[i] = farthest\n",
    "\n",
    "        # 取出这个最远点的xyz坐标\n",
    "        centroid = xyz[farthest, :]\n",
    "\n",
    "        # 计算点集中的所有点到这个最远点的欧式距离\n",
    "        dist = torch.sum((xyz - centroid) ** 2, -1)\n",
    "\n",
    "        mask = dist < distance\n",
    "\n",
    "        # 更新distances，记录样本中每个点距离所有已出现的采样点的最小距离\n",
    "        distance[mask] = dist[mask]\n",
    "        \n",
    "        # 返回最远点索引\n",
    "        farthest = torch.max(distance, -1)[1]\n",
    " \n",
    "    return P_idx"
   ]
  },
  {
   "cell_type": "code",
   "execution_count": 4,
   "metadata": {},
   "outputs": [],
   "source": [
    "xyz = PCs[:,:3]\n",
    "N = 50\n",
    "P_idx = farthest_point_sample(xyz, N).long()\n",
    "# P_idx.sort()[0]\n",
    "# P_idx.shape"
   ]
  },
  {
   "cell_type": "code",
   "execution_count": 6,
   "metadata": {},
   "outputs": [
    {
     "output_type": "stream",
     "name": "stdout",
     "text": [
      "torch.Size([50, 4])\n"
     ]
    }
   ],
   "source": [
    "P = PCs[P_idx, :]\n",
    "print(P.shape)"
   ]
  },
  {
   "cell_type": "code",
   "execution_count": 7,
   "metadata": {},
   "outputs": [],
   "source": [
    "def sqrt_dist(src, dst):\n",
    "    '''\n",
    "    Calculate Squared Euclidean distance between each two points\n",
    "    \n",
    "    Input: \n",
    "        src: source points [M, 3]\n",
    "        dst: target points [N, 3]\n",
    "    Output:\n",
    "        sqrt_dist: per-point Squared Euclidean distance [M, N]\n",
    "    '''\n",
    "    M, _ = src.shape\n",
    "    N, _ = dst.shape\n",
    "    # print(N, M)\n",
    "    \n",
    "    # Squared Euclidean distance between every two vertices\n",
    "    sqrt_dist = -2*torch.matmul(src, dst.permute(-1,-2))\n",
    "    # print(sqrt_dist.shape)\n",
    "    sqrt_dist += torch.sum(src**2, dim=-1).view(M, -1)\n",
    "    # print(torch.sum(src**2, dim=-1).view(M, -1).shape)\n",
    "    sqrt_dist += torch.sum(dst**2, dim=-1).view(-1, N)\n",
    "    # print(torch.sum(dst**2, dim=-1).view(-1,N).shape)\n",
    "    return sqrt_dist"
   ]
  },
  {
   "cell_type": "code",
   "execution_count": 8,
   "metadata": {},
   "outputs": [],
   "source": [
    "def spherical_voxels(P_xyz, PC_xyz, radius):\n",
    "    '''\n",
    "    Subdivide the PC into N 3D spherical voxels B_idx:[N, t]\n",
    "\n",
    "    Input:\n",
    "        P_xyz: [N, 3]\n",
    "        PC_xyz: [n, 3]\n",
    "        radius: \n",
    "    Output:\n",
    "        B_idx: spherical voxel indices [N, t]\n",
    "    '''\n",
    "    N, _ = P_xyz.shape\n",
    "    n, _ = PC_xyz.shape\n",
    "\n",
    "    # Squared Euclidean distance\n",
    "    dist = sqrt_dist(P_xyz, PC_xyz)\n",
    "    # print(dist)\n",
    "    \n",
    "    dist = dist.sort(dim=-1)\n",
    "    # print(dist)\n",
    "    # B_idx = torch.ones(N, n, dtype=torch.long)*n*2\n",
    "    # print(B_idx.shape)\n",
    "    mask = dist[0] < radius**2\n",
    "    # print(mask.shape)\n",
    "    B_idx = dist[1]\n",
    "    # print(B_idx)\n",
    "\n",
    "    return B_idx, mask"
   ]
  },
  {
   "cell_type": "code",
   "execution_count": 9,
   "metadata": {},
   "outputs": [
    {
     "output_type": "stream",
     "name": "stdout",
     "text": [
      "torch.Size([50, 25, 4])\n"
     ]
    }
   ],
   "source": [
    "B_idx, mask = spherical_voxels(P[:,:3], PCs[:,:3], radius=0.5)\n",
    "# print(B_idx.shape)\n",
    "# print(mask.shape)\n",
    "# subdivide the 3D space into N 3D spherical voxels B:[N, t, 4]\n",
    "# B = torch.zeros(N, n, dim_D)\n",
    "# print(B.shape)\n",
    "\n",
    "B = PCs[B_idx, :]\n",
    "B = B[:, :25, :]\n",
    "print(B.shape)\n",
    "# print(B[mask,:].shape)"
   ]
  },
  {
   "cell_type": "code",
   "execution_count": 10,
   "metadata": {},
   "outputs": [],
   "source": [
    "class LocalPointWiseFeat(nn.Module):\n",
    "    def __init__(self, in_channel):\n",
    "        super(LocalPointWiseFeat, self).__init__()\n",
    "        self.linear = nn.Sequential(\n",
    "            nn.Linear(in_channel, 64),\n",
    "            nn.ReLU(),\n",
    "            nn.Linear(64, 128),\n",
    "            nn.ReLU(),\n",
    "            nn.Linear(128, 128)\n",
    "        )\n",
    "\n",
    "    def forward(self, x):\n",
    "        local_feat = self.linear(x)\n",
    "\n",
    "        return local_feat"
   ]
  },
  {
   "cell_type": "code",
   "execution_count": 13,
   "metadata": {},
   "outputs": [],
   "source": [
    "net = LocalPointWiseFeat(dim_D)\n",
    "\n",
    "# local_feat: [50, 25, 128]\n",
    "local_feat = net(B)\n",
    "# print(local_feat.shape)\n",
    "\n",
    "# att_score: [50, 25, 25]\n",
    "att_score = torch.exp(torch.matmul(local_feat, local_feat.permute(0, 2, 1)))\n",
    "# print(att_score.shape)\n",
    "\n",
    "# [50, 25, 25]\n",
    "att_score = att_score.softmax(-1)\n",
    "# print(att_score.shape)"
   ]
  },
  {
   "cell_type": "code",
   "execution_count": 14,
   "metadata": {},
   "outputs": [
    {
     "output_type": "stream",
     "name": "stdout",
     "text": [
      "torch.Size([50, 25, 128])\n"
     ]
    }
   ],
   "source": [
    "# B[:, :1, :]: cetners of each voxel sphere [50, 1, 4]\n",
    "\n",
    "# [50, 1, 128]\n",
    "F_g = net(B[:, :1, :])\n",
    "# print(F_g.shape)\n",
    "\n",
    "# construct KNN graph for each center, K = 3\n",
    "K = 3\n",
    "# [50, 3, 128]\n",
    "KNN_graph = net(B[:, 1:K+1, :])\n",
    "# print(KNN_graph.shape)\n",
    "\n",
    "# [50, 1, 3]\n",
    "beta_m = F_g.matmul(KNN_graph.permute(0,2,1))\n",
    "# print(beta_m.shape)\n",
    "\n",
    "# [50, 1, 3]\n",
    "beta_m = torch.softmax(beta_m, dim=-1)\n",
    "# print(beta_m.shape)\n",
    "# beta_m = torch.sum(beta_m, dim=-1)\n",
    "# print(beta_m.shape)\n",
    "# print(beta_m.view(50, 1, 3, 1).repeat(1,1,1,128).shape)\n",
    "# print(local_feat.unsqueeze(-2).repeat(1,1,3,1).shape)\n",
    "\n",
    "# [50, 25, 128]\n",
    "new_local_feat = torch.sum(beta_m.view(50, 1, 3, 1).repeat(1,1,1,128)*local_feat.unsqueeze(-2).repeat(1,1,3,1), dim=-2) +  att_score.matmul(local_feat)\n",
    "print(new_local_feat.shape)"
   ]
  },
  {
   "cell_type": "code",
   "execution_count": 15,
   "metadata": {},
   "outputs": [
    {
     "output_type": "stream",
     "name": "stdout",
     "text": [
      "torch.Size([50, 128, 1])\n"
     ]
    }
   ],
   "source": [
    "voxel_feat = F.max_pool1d(new_local_feat.permute(0, 2, 1), kernel_size=25)\n",
    "print(voxel_feat.shape)"
   ]
  },
  {
   "cell_type": "code",
   "execution_count": null,
   "metadata": {},
   "outputs": [],
   "source": []
  }
 ]
}